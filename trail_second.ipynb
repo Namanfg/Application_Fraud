{
 "cells": [
  {
   "cell_type": "code",
   "execution_count": 1,
   "id": "21ae9954",
   "metadata": {},
   "outputs": [],
   "source": [
    "code = 'SQfZg1UweCbs8qr2ST6CK9xvu5CbTtup'"
   ]
  },
  {
   "cell_type": "code",
   "execution_count": 2,
   "id": "43903bea",
   "metadata": {},
   "outputs": [
    {
     "name": "stdout",
     "output_type": "stream",
     "text": [
      "{\"access_token\":\"eyJqa3UiOiJodHRwczovL2xvY2FsaG9zdC9TQVNMb2dvbi90b2tlbl9rZXlzIiwia2lkIjoibGVnYWN5LXRva2VuLWtleSIsInR5cCI6IkpXVCIsImFsZyI6IlJTMjU2In0.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.dCJ8-vX2KriEnDNzgtcgtatbwRSy-mYkT7tumm1j_IqsO5LPyeXDNU3oASu-Wif_JMMJ5rBI9BE7_iRThKMRLdBpCnPpYK9mbzWzT1YvL9JgOMm6aFlqPno5HqVOQiMwTVY3MulO3SBxSibiSLVD76tWPJJZHdCrkuq3PNDFWI-Yw233EgZza_cemnb1prCksWy785JwDuDGMdXC5DJseVoDY3UrfwX_PjxIh3fjFNqHZ-nHCUwDcuqtpaOfKE2koX6acawdI64z00BKM7wfvkYZqU2tHP71mJOYFuMOQoVS3XYKGNyK2CJNhtg_830-zNVbkv-y8ykaWhE2kLtn4w\",\"token_type\":\"bearer\",\"id_token\":\"eyJqa3UiOiJodHRwczovL2xvY2FsaG9zdC9TQVNMb2dvbi90b2tlbl9rZXlzIiwia2lkIjoibGVnYWN5LXRva2VuLWtleSIsInR5cCI6IkpXVCIsImFsZyI6IlJTMjU2In0.eyJzdWIiOiJiNTE0NTg4OS04YWIxLTQyZTMtOGNiNy1mNTNmZjRkNWU0NDEiLCJwcmV2aW91c19sb2dvbl90aW1lIjoxNzUyNzMwNTgzMzEyLCJlbWFpbF92ZXJpZmllZCI6ZmFsc2UsInVzZXJfbmFtZSI6Ik5hbWFuLlNoYXJtYS5FeHRlcm5hbEBzYXMuY29tIiwib3JpZ2luIjoiYXp1cmUiLCJpc3MiOiJodHRwOi8vbG9jYWxob3N0L1NBU0xvZ29uL29hdXRoL3Rva2VuIiwiY2xpZW50X2lkIjoic2FzLmNsaSIsImF1ZCI6WyJzYXMuY2xpIl0sInppZCI6InVhYSIsImdyYW50X3R5cGUiOiJhdXRob3JpemF0aW9uX2NvZGUiLCJ1c2VyX2lkIjoiYjUxNDU4ODktOGFiMS00MmUzLThjYjctZjUzZmY0ZDVlNDQxIiwiYXpwIjoic2FzLmNsaSIsInNjb3BlIjpbIm9wZW5pZCJdLCJhdXRoX3RpbWUiOjE3NTI3MzA2NzIsImV4cCI6MTc1MjczNDI3MiwiaWF0IjoxNzUyNzMwNjcyLCJlbWFpbCI6Ik5hbWFuLlNoYXJtYS5FeHRlcm5hbEBzYXMuY29tIiwianRpIjoiZTE4M2YwZDBhZDVkNDI2OTg4ODQxYTY2NTZlOWQwOWEiLCJyZXZfc2lnIjoiNTIwOTYyZGEiLCJjaWQiOiJzYXMuY2xpIn0.cebtOqjvu32gNu_l-JPwclE_y5Dk0KcJOxWsqtORvmTx8odixos3ndJDVFRUNP_8C4nHFsY-gIUAgUwQqKGAQ3i1Uz91OsKnmfw8scJySDrN8zCBvnhul3KboXDPsL1UCLcZSJzWTdjw6TnuirtPCpblu9NfO3gJSUx6k4T-7nkrFC2HP6XdlALAuaZNyWqNsXGAxQ_iTkaqeBCy1gBPLfdaCDyqvCn_X9m4V1WkM5hRJ8okMJwDubOuZbMgU9bbdbE_docXkR03J_fujTuZLVB7k4TXqBa0-de3iETgTzZGm7kX0U-Xzsv5X-x6iWJ3W5-FtaxuZ4NwJdrosB_81w\",\"refresh_token\":\"2d7eb3d899e545bd992c859e074f55f6-r\",\"expires_in\":3599,\"scope\":\"sas-batch.user_impersonation sas-job-execution.user_impersonation sas-compute.user_impersonation sas-device-management.user_impersonation sas-cas-management.user_impersonation sas-identities.user_impersonation openid sas-fonts.user_impersonation sas-workload-orchestrator.user_impersonation sas-authorization.user_impersonation uaa.user sas-connect.user_impersonation sas-report-packages.user_impersonation sas-launcher.user_impersonation sas-folders.user_impersonation sas-credentials.user_impersonation sas-audit.user_impersonation sas-configuration.user_impersonation sas-scheduler.user_impersonation sas-transfer.user_impersonation\",\"refresh_expires_in\":1209599,\"refresh_revocable\":true,\"revocable\":false,\"jti\":\"e183f0d0ad5d426988841a6656e9d09a\"}\n"
     ]
    }
   ],
   "source": [
    "import requests\n",
    "\n",
    "url = \"https://create.demo.sas.com/SASLogon/oauth/token\"\n",
    "\n",
    "payload = f'grant_type=authorization_code&code={code}'\n",
    "\n",
    "headers = {\n",
    " 'Accept': 'application/json',\n",
    " 'Content-Type': 'application/x-www-form-urlencoded',\n",
    " 'Authorization': 'Basic c2FzLmNsaTo='\n",
    "}\n",
    "\n",
    "response = requests.request(\"POST\", url, headers=headers, data=payload)\n",
    "\n",
    "print(response.text)\n",
    "\n",
    "import json \n",
    "token_dictionary = json.loads(response.text)\n",
    "access_token = token_dictionary['access_token']"
   ]
  },
  {
   "cell_type": "code",
   "execution_count": 3,
   "id": "3b2ee252",
   "metadata": {},
   "outputs": [
    {
     "data": {
      "text/plain": [
       "'eyJqa3UiOiJodHRwczovL2xvY2FsaG9zdC9TQVNMb2dvbi90b2tlbl9rZXlzIiwia2lkIjoibGVnYWN5LXRva2VuLWtleSIsInR5cCI6IkpXVCIsImFsZyI6IlJTMjU2In0.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.dCJ8-vX2KriEnDNzgtcgtatbwRSy-mYkT7tumm1j_IqsO5LPyeXDNU3oASu-Wif_JMMJ5rBI9BE7_iRThKMRLdBpCnPpYK9mbzWzT1YvL9JgOMm6aFlqPno5HqVOQiMwTVY3MulO3SBxSibiSLVD76tWPJJZHdCrkuq3PNDFWI-Yw233EgZza_cemnb1prCksWy785JwDuDGMdXC5DJseVoDY3UrfwX_PjxIh3fjFNqHZ-nHCUwDcuqtpaOfKE2koX6acawdI64z00BKM7wfvkYZqU2tHP71mJOYFuMOQoVS3XYKGNyK2CJNhtg_830-zNVbkv-y8ykaWhE2kLtn4w'"
      ]
     },
     "execution_count": 3,
     "metadata": {},
     "output_type": "execute_result"
    }
   ],
   "source": [
    "access_token"
   ]
  },
  {
   "cell_type": "code",
   "execution_count": 4,
   "id": "b904ed2f",
   "metadata": {},
   "outputs": [
    {
     "name": "stdout",
     "output_type": "stream",
     "text": [
      "{\"links\":[],\"version\":2,\"moduleId\":\"application_fraud_genai_version_1_0\",\"stepId\":\"execute\",\"executionState\":\"completed\",\"metadata\":{\"module_id\":\"application_fraud_genai_version_1_0\",\"step_id\":\"execute\"},\"outputs\":[{\"name\":\"Output_Country_ISO\",\"value\":\"IN\"},{\"name\":\"Output_Country_Name\",\"value\":\"India\"},{\"name\":\"Output_Name\",\"value\":\"Nirav Modi\"},{\"name\":\"Output_Score\",\"value\":\"10\"},{\"name\":\"Output_Source\",\"value\":\"https://www.bbc.com/news/topics/cgnk8854mj2t , https://www.reuters.com/world/india/uk-high-court-rejects-nirav-modis-appeal-extradition-india-2022-11-09/ , https://economictimes.indiatimes.com/topic/nirav-modi , https://timesofindia.indiatimes.com/topic/nirav-modi , https://www.ndtv.com/topic/nirav-modi\"},{\"name\":\"Output_Summary\",\"value\":\"Nirav Modi faces extreme risk due to his alleged involvement in the multi-billion dollar Punjab National Bank fraud. He is a fugitive, arrested in London, and is undergoing extradition proceedings for fraud and money laundering charges, indicating significant financial and legal risk.\"}]}\n",
      "201\n"
     ]
    }
   ],
   "source": [
    "import requests\n",
    "import json\n",
    "\n",
    "url = \"https://create.demo.sas.com/microanalyticScore/modules/application_fraud_genai_version_1_0/steps/execute\"\n",
    "payload = json.dumps({\n",
    "  \"version\": 2.1,\n",
    "  \"inputs\": [\n",
    "    {\n",
    "      \"name\": \"Input_Country_\",\n",
    "      \"value\": \"IN\"\n",
    "    },\n",
    "    {\n",
    "      \"name\": \"Input_Dob_\",\n",
    "      \"value\": \"Unknown\"\n",
    "    },\n",
    "    {\n",
    "      \"name\": \"Input_Name_\",\n",
    "      \"value\": \"Nirav Modi\"\n",
    "    }\n",
    "  ]\n",
    "})\n",
    "headers = {\n",
    "  'Content-Type': 'application/json',\n",
    "  'Accept': 'application/vnd.sas.microanalytic.module.step.output+json',\n",
    "  'Authorization': f'Bearer {access_token}',\n",
    "  'Cookie': 'sas-ingress-nginx=1ff4206e0fe166a82be0cbe7cbb82dee|c77aaefb6d6a3105579e88f5ea518f2b'\n",
    "}\n",
    "response = requests.request(\"POST\", url, headers=headers, data=payload)\n",
    "print(response.text)\n",
    "print(response.status_code)"
   ]
  },
  {
   "cell_type": "code",
   "execution_count": 5,
   "id": "5ba1216a",
   "metadata": {},
   "outputs": [],
   "source": [
    "response_json = response.json()"
   ]
  },
  {
   "cell_type": "code",
   "execution_count": 6,
   "id": "61eb6c4e",
   "metadata": {},
   "outputs": [
    {
     "data": {
      "text/plain": [
       "{'links': [],\n",
       " 'version': 2,\n",
       " 'moduleId': 'application_fraud_genai_version_1_0',\n",
       " 'stepId': 'execute',\n",
       " 'executionState': 'completed',\n",
       " 'metadata': {'module_id': 'application_fraud_genai_version_1_0',\n",
       "  'step_id': 'execute'},\n",
       " 'outputs': [{'name': 'Output_Country_ISO', 'value': 'IN'},\n",
       "  {'name': 'Output_Country_Name', 'value': 'India'},\n",
       "  {'name': 'Output_Name', 'value': 'Nirav Modi'},\n",
       "  {'name': 'Output_Score', 'value': '10'},\n",
       "  {'name': 'Output_Source',\n",
       "   'value': 'https://www.bbc.com/news/topics/cgnk8854mj2t , https://www.reuters.com/world/india/uk-high-court-rejects-nirav-modis-appeal-extradition-india-2022-11-09/ , https://economictimes.indiatimes.com/topic/nirav-modi , https://timesofindia.indiatimes.com/topic/nirav-modi , https://www.ndtv.com/topic/nirav-modi'},\n",
       "  {'name': 'Output_Summary',\n",
       "   'value': 'Nirav Modi faces extreme risk due to his alleged involvement in the multi-billion dollar Punjab National Bank fraud. He is a fugitive, arrested in London, and is undergoing extradition proceedings for fraud and money laundering charges, indicating significant financial and legal risk.'}]}"
      ]
     },
     "execution_count": 6,
     "metadata": {},
     "output_type": "execute_result"
    }
   ],
   "source": [
    "response_json\n"
   ]
  },
  {
   "cell_type": "code",
   "execution_count": null,
   "id": "558754c7",
   "metadata": {},
   "outputs": [],
   "source": []
  }
 ],
 "metadata": {
  "kernelspec": {
   "display_name": "Python 3",
   "language": "python",
   "name": "python3"
  },
  "language_info": {
   "codemirror_mode": {
    "name": "ipython",
    "version": 3
   },
   "file_extension": ".py",
   "mimetype": "text/x-python",
   "name": "python",
   "nbconvert_exporter": "python",
   "pygments_lexer": "ipython3",
   "version": "3.13.4"
  }
 },
 "nbformat": 4,
 "nbformat_minor": 5
}
